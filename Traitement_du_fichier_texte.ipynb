{
  "nbformat": 4,
  "nbformat_minor": 0,
  "metadata": {
    "colab": {
      "provenance": [],
      "include_colab_link": true
    },
    "kernelspec": {
      "name": "python3",
      "display_name": "Python 3"
    },
    "language_info": {
      "name": "python"
    }
  },
  "cells": [
    {
      "cell_type": "markdown",
      "metadata": {
        "id": "view-in-github",
        "colab_type": "text"
      },
      "source": [
        "<a href=\"https://colab.research.google.com/github/bigirimanainnocent12/Traitement_du_fichier_text/blob/main/Traitement_du_fichier_texte.ipynb\" target=\"_parent\"><img src=\"https://colab.research.google.com/assets/colab-badge.svg\" alt=\"Open In Colab\"/></a>"
      ]
    },
    {
      "cell_type": "code",
      "execution_count": null,
      "metadata": {
        "colab": {
          "base_uri": "https://localhost:8080/"
        },
        "id": "Vyihm_KfETns",
        "outputId": "7ae61822-6be1-4f78-d3c6-d4648723af10"
      },
      "outputs": [
        {
          "output_type": "stream",
          "name": "stdout",
          "text": [
            "Drive already mounted at /content/drive; to attempt to forcibly remount, call drive.mount(\"/content/drive\", force_remount=True).\n"
          ]
        }
      ],
      "source": [
        "from google.colab import drive\n",
        "drive.mount('/content/drive')"
      ]
    },
    {
      "cell_type": "code",
      "source": [
        "from datetime import date\n",
        "import os\n",
        "import pandas as pd\n",
        "import time\n",
        "import numpy as np\n",
        "from tqdm import tqdm\n",
        "from rich import print\n",
        "\n",
        "def traiter_fichiers(dossier_fichiers, dossier_sauvegarde, dossier_fermenteur):\n",
        "    # Mesurer le temps de début\n",
        "    start_time = time.time()\n",
        "\n",
        "    # Liste des encodages possibles\n",
        "    encodages = ['utf-8', 'latin-1', 'cp1252', 'ascii', 'utf-16', 'utf-32']\n",
        "\n",
        "    # Créer des dossiers pour sauvegarder les fichiers Excel\n",
        "    os.makedirs(dossier_sauvegarde, exist_ok=True)\n",
        "    os.makedirs(dossier_fermenteur, exist_ok=True)  # Créer le dossier Fermenteur\n",
        "\n",
        "    # Obtenir la liste des fichiers texte dans le dossier\n",
        "    fichiers_texte = os.listdir(dossier_fichiers)\n",
        "\n",
        "    # Parcourir tous les fichiers texte dans le dossier avec une barre de progression\n",
        "    for fichier_texte in tqdm(fichiers_texte, desc=\"Traitement des fichiers\"):\n",
        "        chemin_fichier = os.path.join(dossier_fichiers, fichier_texte)\n",
        "\n",
        "        for encodage in encodages:\n",
        "            try:\n",
        "                with open(chemin_fichier, \"r\", encoding=encodage) as fichier:\n",
        "                    contenu = fichier.read()\n",
        "                print(f\"Fichier '{fichier_texte}' lu avec l'encodage : {encodage}\")\n",
        "\n",
        "                df = pd.DataFrame([x.split('\\t') for x in contenu.split('\\n') if x])\n",
        "                Fermenteur = df.loc[:, 0][1].split('=')[1]\n",
        "                date_experience = df.loc[:, 0][df[df[0].str.startswith('Début')].index[0]].split('=')[1]\n",
        "                Souche = df.loc[:, 0][df[df[0].str.startswith('Souche')].index[0]].split('=')[1]\n",
        "                Milieu = df.loc[:, 0][df[df[0].str.startswith('Milieu')].index[0]].split('=')[1]\n",
        "                volume = \"Salle\"\n",
        "                dicti = {'Fermenteur': Fermenteur, 'date_experience': date_experience, 'Souche': Souche, 'Milieu': Milieu, 'volume': volume}\n",
        "                data = pd.DataFrame(dicti, index=[0])\n",
        "                data['date_experience'] = pd.to_datetime(data['date_experience'], format='%d/%m/%Y %H:%M')\n",
        "                data['Code'] = 'F' + data['Fermenteur'].astype(str) + '_' + data['date_experience'].astype(str)\n",
        "\n",
        "                valeurs_a_chercher = [\"[Données]\", \"[Donn�es]\"]\n",
        "                df = df.loc[:,][df.loc[df.loc[:, 0].isin(valeurs_a_chercher)].index[0] + 1:]\n",
        "                nouvelles_colonnes = df.iloc[0, :len(df.columns)].tolist()\n",
        "                df.columns = nouvelles_colonnes\n",
        "                # Supprimer la première ligne (qui a été utilisée comme noms de colonnes)\n",
        "                df = df.iloc[1:]\n",
        "\n",
        "\n",
        "\n",
        "\n",
        "\n",
        "\n",
        "\n",
        "\n",
        "                # Réinitialiser l'index\n",
        "                df = df.reset_index(drop=True)\n",
        "                df.drop(columns=['T°C', 'Poids', 'Volume', 'FinPhas', 'Vinst', 'Csg V', 'V5', 'Acc G','Tps inject.'], inplace=True)\n",
        "\n",
        "                df['Code']=data['Code'][0]\n",
        "                df.rename(columns={'Csg T': 'Csg_T'}, inplace=True)\n",
        "                df['Temps'] = df['Temps'].str.replace(',', '.').astype(float)\n",
        "                df['Csg_T'] = df['Csg_T'].str.replace(',', '.').astype(float)\n",
        "                df['CO2']=df['CO2'].str.replace(',', '.').astype(float)\n",
        "                df['V11']=df['V11'].str.replace(',', '.').astype(float)\n",
        "                # Traitement des ecarts entre deux observations de la colonne temps\n",
        "                taille=len(df)\n",
        "                compteur=0\n",
        "                for i in np.arange(taille-1):\n",
        "                  z=df['Temps'].iloc[i+1]-df['Temps'].iloc[i]\n",
        "                  if z>70:\n",
        "                     compteur=compteur+1\n",
        "\n",
        "\n",
        "                # Traitement des valeurs manquantes\n",
        "                S = 0\n",
        "                for i in np.arange(len(df)):\n",
        "                    if df['CO2'].isna().iloc[i] == True or df['V11'].isna().iloc[i] == True or df['Csg_T'].isna().iloc[i] == True:\n",
        "                        S = S + 1\n",
        "\n",
        "\n",
        "\n",
        "\n",
        "                if S==0 and compteur==0 and len(df) > 100 and df['V11'].iloc[-1]<0.1 and df['CO2'].max()>60 and df['V11'].iloc[12]<0.2 :\n",
        "                # Chemin complet pour sauvegarder le fichier Excel\n",
        "\n",
        "                  chemin_excel = os.path.join(dossier_sauvegarde, f\"{os.path.splitext(fichier_texte)[0]}.xlsx\")\n",
        "                  df.to_excel(chemin_excel, index=False)\n",
        "                  chemin_fermenteur = os.path.join(dossier_fermenteur, f\"{os.path.splitext(fichier_texte)[0]}.xlsx\")\n",
        "                  data.to_excel(chemin_fermenteur, index=False)\n",
        "\n",
        "                  print(f\"Les DataFrames ont été sauvegardés sous format Excel dans '{chemin_excel}' et '{chemin_fermenteur}'.\")\n",
        "\n",
        "                else:\n",
        "                  print(\"[Le fichier ne respecte pas toutes les conditions requises pour être sauvegarder\")\n",
        "\n",
        "                break  # Sortir de la boucle si la lecture est réussie\n",
        "\n",
        "            except UnicodeDecodeError:\n",
        "                print(f\"Échec de la lecture avec l'encodage : {encodage}\")\n",
        "            except FileNotFoundError:\n",
        "                print(f\"Erreur : Le fichier '{chemin_fichier}' n'existe pas.\")\n",
        "                break\n",
        "            except Exception as e:\n",
        "                print(f\"Une erreur s'est produite avec l'encodage {encodage} : {e}\")\n",
        "\n",
        "    # Mesurer le temps de fin\n",
        "    end_time = time.time()\n",
        "    print(f\"Temps total de traitement : {end_time - start_time} secondes\")\n",
        "\n",
        "# Appeler la fonction avec les chemins appropriés\n",
        "traiter_fichiers(\"/content/drive/MyDrive/code\", \"/content/drive/MyDrive/donnees\", \"/content/drive/MyDrive/Fermenteur\")"
      ],
      "metadata": {
        "id": "Nu1mvVEmdXss",
        "outputId": "5c52d419-a48c-4f83-9e77-aa241f19f3e7",
        "colab": {
          "base_uri": "https://localhost:8080/",
          "height": 420
        }
      },
      "execution_count": 38,
      "outputs": [
        {
          "output_type": "stream",
          "name": "stderr",
          "text": [
            "\rTraitement des fichiers:   0%|          | 0/5 [00:00<?, ?it/s]"
          ]
        },
        {
          "output_type": "display_data",
          "data": {
            "text/plain": [
              "Échec de la lecture avec l'encodage : utf-\u001b[1;36m8\u001b[0m\n"
            ],
            "text/html": [
              "<pre style=\"white-space:pre;overflow-x:auto;line-height:normal;font-family:Menlo,'DejaVu Sans Mono',consolas,'Courier New',monospace\">Échec de la lecture avec l'encodage : utf-<span style=\"color: #008080; text-decoration-color: #008080; font-weight: bold\">8</span>\n",
              "</pre>\n"
            ]
          },
          "metadata": {}
        },
        {
          "output_type": "display_data",
          "data": {
            "text/plain": [
              "Fichier \u001b[32m'F1_08022021_1817_Brioso_CfPSM_T200_NV_SYNC.txt'\u001b[0m lu avec l'encodage : latin-\u001b[1;36m1\u001b[0m\n"
            ],
            "text/html": [
              "<pre style=\"white-space:pre;overflow-x:auto;line-height:normal;font-family:Menlo,'DejaVu Sans Mono',consolas,'Courier New',monospace\">Fichier <span style=\"color: #008000; text-decoration-color: #008000\">'F1_08022021_1817_Brioso_CfPSM_T200_NV_SYNC.txt'</span> lu avec l'encodage : latin-<span style=\"color: #008080; text-decoration-color: #008080; font-weight: bold\">1</span>\n",
              "</pre>\n"
            ]
          },
          "metadata": {}
        },
        {
          "output_type": "display_data",
          "data": {
            "text/plain": [
              "\u001b[1m[\u001b[0mLe fichier ne respecte pas toutes les conditions requises pour être sauvegarder\n"
            ],
            "text/html": [
              "<pre style=\"white-space:pre;overflow-x:auto;line-height:normal;font-family:Menlo,'DejaVu Sans Mono',consolas,'Courier New',monospace\"><span style=\"font-weight: bold\">[</span>Le fichier ne respecte pas toutes les conditions requises pour être sauvegarder\n",
              "</pre>\n"
            ]
          },
          "metadata": {}
        },
        {
          "output_type": "display_data",
          "data": {
            "text/plain": [
              "Échec de la lecture avec l'encodage : utf-\u001b[1;36m8\u001b[0m\n"
            ],
            "text/html": [
              "<pre style=\"white-space:pre;overflow-x:auto;line-height:normal;font-family:Menlo,'DejaVu Sans Mono',consolas,'Courier New',monospace\">Échec de la lecture avec l'encodage : utf-<span style=\"color: #008080; text-decoration-color: #008080; font-weight: bold\">8</span>\n",
              "</pre>\n"
            ]
          },
          "metadata": {}
        },
        {
          "output_type": "display_data",
          "data": {
            "text/plain": [
              "Fichier \u001b[32m'F1_11052021_1220_DV10 cond scott_SC 300_T250_NV_SYNC.txt'\u001b[0m lu avec l'encodage : latin-\u001b[1;36m1\u001b[0m\n"
            ],
            "text/html": [
              "<pre style=\"white-space:pre;overflow-x:auto;line-height:normal;font-family:Menlo,'DejaVu Sans Mono',consolas,'Courier New',monospace\">Fichier <span style=\"color: #008000; text-decoration-color: #008000\">'F1_11052021_1220_DV10 cond scott_SC 300_T250_NV_SYNC.txt'</span> lu avec l'encodage : latin-<span style=\"color: #008080; text-decoration-color: #008080; font-weight: bold\">1</span>\n",
              "</pre>\n"
            ]
          },
          "metadata": {}
        },
        {
          "output_type": "display_data",
          "data": {
            "text/plain": [
              "\u001b[1m[\u001b[0mLe fichier ne respecte pas toutes les conditions requises pour être sauvegarder\n"
            ],
            "text/html": [
              "<pre style=\"white-space:pre;overflow-x:auto;line-height:normal;font-family:Menlo,'DejaVu Sans Mono',consolas,'Courier New',monospace\"><span style=\"font-weight: bold\">[</span>Le fichier ne respecte pas toutes les conditions requises pour être sauvegarder\n",
              "</pre>\n"
            ]
          },
          "metadata": {}
        },
        {
          "output_type": "stream",
          "name": "stderr",
          "text": [
            "\rTraitement des fichiers:  40%|████      | 2/5 [00:00<00:00,  8.99it/s]"
          ]
        },
        {
          "output_type": "display_data",
          "data": {
            "text/plain": [
              "Échec de la lecture avec l'encodage : utf-\u001b[1;36m8\u001b[0m\n"
            ],
            "text/html": [
              "<pre style=\"white-space:pre;overflow-x:auto;line-height:normal;font-family:Menlo,'DejaVu Sans Mono',consolas,'Courier New',monospace\">Échec de la lecture avec l'encodage : utf-<span style=\"color: #008080; text-decoration-color: #008080; font-weight: bold\">8</span>\n",
              "</pre>\n"
            ]
          },
          "metadata": {}
        },
        {
          "output_type": "display_data",
          "data": {
            "text/plain": [
              "Fichier \u001b[32m'F22_29062021_1551_OT64C2_Chardo PR20_T200_NV_SYNC.txt'\u001b[0m lu avec l'encodage : latin-\u001b[1;36m1\u001b[0m\n"
            ],
            "text/html": [
              "<pre style=\"white-space:pre;overflow-x:auto;line-height:normal;font-family:Menlo,'DejaVu Sans Mono',consolas,'Courier New',monospace\">Fichier <span style=\"color: #008000; text-decoration-color: #008000\">'F22_29062021_1551_OT64C2_Chardo PR20_T200_NV_SYNC.txt'</span> lu avec l'encodage : latin-<span style=\"color: #008080; text-decoration-color: #008080; font-weight: bold\">1</span>\n",
              "</pre>\n"
            ]
          },
          "metadata": {}
        },
        {
          "output_type": "display_data",
          "data": {
            "text/plain": [
              "Les DataFrames ont été sauvegardés sous format Excel dans \n",
              "\u001b[32m'/content/drive/MyDrive/donnees/F22_29062021_1551_OT64C2_Chardo PR20_T200_NV_SYNC.xlsx'\u001b[0m et \n",
              "\u001b[32m'/content/drive/MyDrive/Fermenteur/F22_29062021_1551_OT64C2_Chardo PR20_T200_NV_SYNC.xlsx'\u001b[0m.\n"
            ],
            "text/html": [
              "<pre style=\"white-space:pre;overflow-x:auto;line-height:normal;font-family:Menlo,'DejaVu Sans Mono',consolas,'Courier New',monospace\">Les DataFrames ont été sauvegardés sous format Excel dans \n",
              "<span style=\"color: #008000; text-decoration-color: #008000\">'/content/drive/MyDrive/donnees/F22_29062021_1551_OT64C2_Chardo PR20_T200_NV_SYNC.xlsx'</span> et \n",
              "<span style=\"color: #008000; text-decoration-color: #008000\">'/content/drive/MyDrive/Fermenteur/F22_29062021_1551_OT64C2_Chardo PR20_T200_NV_SYNC.xlsx'</span>.\n",
              "</pre>\n"
            ]
          },
          "metadata": {}
        },
        {
          "output_type": "stream",
          "name": "stderr",
          "text": [
            "\rTraitement des fichiers:  60%|██████    | 3/5 [00:00<00:00,  3.28it/s]"
          ]
        },
        {
          "output_type": "display_data",
          "data": {
            "text/plain": [
              "Échec de la lecture avec l'encodage : utf-\u001b[1;36m8\u001b[0m\n"
            ],
            "text/html": [
              "<pre style=\"white-space:pre;overflow-x:auto;line-height:normal;font-family:Menlo,'DejaVu Sans Mono',consolas,'Courier New',monospace\">Échec de la lecture avec l'encodage : utf-<span style=\"color: #008080; text-decoration-color: #008080; font-weight: bold\">8</span>\n",
              "</pre>\n"
            ]
          },
          "metadata": {}
        },
        {
          "output_type": "display_data",
          "data": {
            "text/plain": [
              "Fichier \u001b[32m'F1_07072021_1540_CY3079_MS250N200S-F-O2_T180_NV_SYNC.txt'\u001b[0m lu avec l'encodage : latin-\u001b[1;36m1\u001b[0m\n"
            ],
            "text/html": [
              "<pre style=\"white-space:pre;overflow-x:auto;line-height:normal;font-family:Menlo,'DejaVu Sans Mono',consolas,'Courier New',monospace\">Fichier <span style=\"color: #008000; text-decoration-color: #008000\">'F1_07072021_1540_CY3079_MS250N200S-F-O2_T180_NV_SYNC.txt'</span> lu avec l'encodage : latin-<span style=\"color: #008080; text-decoration-color: #008080; font-weight: bold\">1</span>\n",
              "</pre>\n"
            ]
          },
          "metadata": {}
        },
        {
          "output_type": "display_data",
          "data": {
            "text/plain": [
              "Les DataFrames ont été sauvegardés sous format Excel dans \n",
              "\u001b[32m'/content/drive/MyDrive/donnees/F1_07072021_1540_CY3079_MS250N200S-F-O2_T180_NV_SYNC.xlsx'\u001b[0m et \n",
              "\u001b[32m'/content/drive/MyDrive/Fermenteur/F1_07072021_1540_CY3079_MS250N200S-F-O2_T180_NV_SYNC.xlsx'\u001b[0m.\n"
            ],
            "text/html": [
              "<pre style=\"white-space:pre;overflow-x:auto;line-height:normal;font-family:Menlo,'DejaVu Sans Mono',consolas,'Courier New',monospace\">Les DataFrames ont été sauvegardés sous format Excel dans \n",
              "<span style=\"color: #008000; text-decoration-color: #008000\">'/content/drive/MyDrive/donnees/F1_07072021_1540_CY3079_MS250N200S-F-O2_T180_NV_SYNC.xlsx'</span> et \n",
              "<span style=\"color: #008000; text-decoration-color: #008000\">'/content/drive/MyDrive/Fermenteur/F1_07072021_1540_CY3079_MS250N200S-F-O2_T180_NV_SYNC.xlsx'</span>.\n",
              "</pre>\n"
            ]
          },
          "metadata": {}
        },
        {
          "output_type": "stream",
          "name": "stderr",
          "text": [
            "\rTraitement des fichiers:  80%|████████  | 4/5 [00:01<00:00,  2.69it/s]"
          ]
        },
        {
          "output_type": "display_data",
          "data": {
            "text/plain": [
              "Échec de la lecture avec l'encodage : utf-\u001b[1;36m8\u001b[0m\n"
            ],
            "text/html": [
              "<pre style=\"white-space:pre;overflow-x:auto;line-height:normal;font-family:Menlo,'DejaVu Sans Mono',consolas,'Courier New',monospace\">Échec de la lecture avec l'encodage : utf-<span style=\"color: #008080; text-decoration-color: #008080; font-weight: bold\">8</span>\n",
              "</pre>\n"
            ]
          },
          "metadata": {}
        },
        {
          "output_type": "display_data",
          "data": {
            "text/plain": [
              "Fichier \u001b[32m'F1_07092021_1228_Laktia_MSN250S230FA2_T240_NV_SYNC.txt'\u001b[0m lu avec l'encodage : latin-\u001b[1;36m1\u001b[0m\n"
            ],
            "text/html": [
              "<pre style=\"white-space:pre;overflow-x:auto;line-height:normal;font-family:Menlo,'DejaVu Sans Mono',consolas,'Courier New',monospace\">Fichier <span style=\"color: #008000; text-decoration-color: #008000\">'F1_07092021_1228_Laktia_MSN250S230FA2_T240_NV_SYNC.txt'</span> lu avec l'encodage : latin-<span style=\"color: #008080; text-decoration-color: #008080; font-weight: bold\">1</span>\n",
              "</pre>\n"
            ]
          },
          "metadata": {}
        },
        {
          "output_type": "display_data",
          "data": {
            "text/plain": [
              "\u001b[1m[\u001b[0mLe fichier ne respecte pas toutes les conditions requises pour être sauvegarder\n"
            ],
            "text/html": [
              "<pre style=\"white-space:pre;overflow-x:auto;line-height:normal;font-family:Menlo,'DejaVu Sans Mono',consolas,'Courier New',monospace\"><span style=\"font-weight: bold\">[</span>Le fichier ne respecte pas toutes les conditions requises pour être sauvegarder\n",
              "</pre>\n"
            ]
          },
          "metadata": {}
        },
        {
          "output_type": "stream",
          "name": "stderr",
          "text": [
            "Traitement des fichiers: 100%|██████████| 5/5 [00:01<00:00,  3.59it/s]\n"
          ]
        },
        {
          "output_type": "display_data",
          "data": {
            "text/plain": [
              "Temps total de traitement : \u001b[1;36m1.397550106048584\u001b[0m secondes\n"
            ],
            "text/html": [
              "<pre style=\"white-space:pre;overflow-x:auto;line-height:normal;font-family:Menlo,'DejaVu Sans Mono',consolas,'Courier New',monospace\">Temps total de traitement : <span style=\"color: #008080; text-decoration-color: #008080; font-weight: bold\">1.397550106048584</span> secondes\n",
              "</pre>\n"
            ]
          },
          "metadata": {}
        }
      ]
    }
  ]
}