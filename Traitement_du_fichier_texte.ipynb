{
  "nbformat": 4,
  "nbformat_minor": 0,
  "metadata": {
    "colab": {
      "provenance": [],
      "include_colab_link": true
    },
    "kernelspec": {
      "name": "python3",
      "display_name": "Python 3"
    },
    "language_info": {
      "name": "python"
    }
  },
  "cells": [
    {
      "cell_type": "markdown",
      "metadata": {
        "id": "view-in-github",
        "colab_type": "text"
      },
      "source": [
        "<a href=\"https://colab.research.google.com/github/bigirimanainnocent12/Traitement_du_fichier_text/blob/main/Traitement_du_fichier_texte.ipynb\" target=\"_parent\"><img src=\"https://colab.research.google.com/assets/colab-badge.svg\" alt=\"Open In Colab\"/></a>"
      ]
    },
    {
      "cell_type": "code",
      "execution_count": 2,
      "metadata": {
        "colab": {
          "base_uri": "https://localhost:8080/"
        },
        "id": "Vyihm_KfETns",
        "outputId": "89ace6fe-0ca6-4a00-bb88-1c6b1f5bd6a7"
      },
      "outputs": [
        {
          "output_type": "stream",
          "name": "stdout",
          "text": [
            "Mounted at /content/drive\n"
          ]
        }
      ],
      "source": [
        "from google.colab import drive\n",
        "drive.mount('/content/drive')"
      ]
    },
    {
      "cell_type": "code",
      "source": [
        "from datetime import date\n",
        "import os\n",
        "import pandas as pd\n",
        "import time\n",
        "import numpy as np\n",
        "from tqdm import tqdm  # Importer tqdm pour la barre de progression\n",
        "\n",
        "# Mesurer le temps de début\n",
        "start_time = time.time()\n",
        "\n",
        "# Spécifier le chemin du dossier contenant les fichiers texte\n",
        "dossier_fichiers = \"/content/drive/MyDrive/code\"\n",
        "\n",
        "# Liste des encodages possibles\n",
        "encodages = ['utf-8', 'latin-1', 'cp1252', 'ascii', 'utf-16', 'utf-32']\n",
        "\n",
        "# Créer un dossier pour sauvegarder les fichiers Excel dans le chemin spécifié\n",
        "dossier_sauvegarde = \"/content/drive/MyDrive/donnees\"\n",
        "dossier_fermenteur = \"/content/drive/MyDrive/Fermenteur\"\n",
        "os.makedirs(dossier_sauvegarde, exist_ok=True)\n",
        "os.makedirs(dossier_fermenteur, exist_ok=True)  # Créer le dossier Fermenteur\n",
        "\n",
        "# Initialiser le compteur de fichiers\n",
        "compteur_fichiers = 0\n",
        "\n",
        "# Obtenir la liste des fichiers texte dans le dossier\n",
        "fichiers_texte = os.listdir(dossier_fichiers)\n",
        "\n",
        "# Parcourir tous les fichiers texte dans le dossier avec une barre de progression\n",
        "for fichier_texte in tqdm(fichiers_texte, desc=\"Traitement des fichiers\"):\n",
        "    chemin_fichier = os.path.join(dossier_fichiers, fichier_texte)\n",
        "\n",
        "    for encodage in encodages:\n",
        "        try:\n",
        "            with open(chemin_fichier, \"r\", encoding=encodage) as fichier:\n",
        "                contenu = fichier.read()\n",
        "            print(f\"Fichier '{fichier_texte}' lu avec l'encodage : {encodage}\")\n",
        "\n",
        "            df = pd.DataFrame([x.split('\\t') for x in contenu.split('\\n') if x])\n",
        "            Fermenteur = df.loc[:, 0][1].split('=')[1]\n",
        "            date_experience = df.loc[:, 0][df[df[0].str.startswith('Début')].index[0]].split('=')[1]\n",
        "            Souche = df.loc[:, 0][df[df[0].str.startswith('Souche')].index[0]].split('=')[1]\n",
        "            Milieu = df.loc[:, 0][df[df[0].str.startswith('Milieu')].index[0]].split('=')[1]\n",
        "            volume = \"Salle\"\n",
        "            dicti = {'Fermenteur': Fermenteur, 'date_experience': date_experience, 'Souche': Souche, 'Milieu': Milieu, 'volume': volume}\n",
        "            data = pd.DataFrame(dicti, index=[0])\n",
        "            data['date_experience'] = pd.to_datetime(data['date_experience'], format='%d/%m/%Y %H:%M')\n",
        "            data['Code'] = 'F' + data['Fermenteur'].astype(str) + '_' + data['date_experience'].astype(str)\n",
        "\n",
        "\n",
        "\n",
        "            valeurs_a_chercher = [\"[Données]\", \"[Donn�es]\"]\n",
        "            df = df.loc[:,][df.loc[df.loc[:, 0].isin(valeurs_a_chercher)].index[0] + 1:]\n",
        "            nouvelles_colonnes = df.iloc[0, :len(df.columns)].tolist()\n",
        "            df.columns = nouvelles_colonnes\n",
        "            # Supprimer la première ligne (qui a été utilisée comme noms de colonnes)\n",
        "            df = df.iloc[1:]\n",
        "\n",
        "            # Réinitialiser l'index\n",
        "            df = df.reset_index(drop=True)\n",
        "            df.drop(columns=['T°C', 'Poids', 'Volume', 'FinPhas', 'Vinst', 'Csg V', 'V5', 'Acc G','Tps inject.'], inplace=True)\n",
        "            S = 0\n",
        "            for i in np.arange(len(df)):\n",
        "                if df['CO2'].isna().iloc[i] == True or df['V11'].isna().iloc[i] == True:\n",
        "                    S = S + 1\n",
        "            df['Code']=data['Code'][0]\n",
        "            df.rename(columns={'Csg T': 'Csg_T'}, inplace=True)\n",
        "\n",
        "\n",
        "\n",
        "\n",
        "\n",
        "\n",
        "\n",
        "\n",
        "\n",
        "\n",
        "\n",
        "            # Sauvegarder les fichiers Excel\n",
        "            chemin_excel = os.path.join(dossier_sauvegarde, f\"{os.path.splitext(fichier_texte)[0]}.xlsx\")\n",
        "            df.to_excel(chemin_excel, index=False)\n",
        "            chemin_fermenteur = os.path.join(dossier_fermenteur, f\"{os.path.splitext(fichier_texte)[0]}.xlsx\")\n",
        "            data.to_excel(chemin_fermenteur, index=False)\n",
        "\n",
        "            print(f\"Les DataFrames ont été sauvegardés sous format Excel dans '{chemin_excel}' et '{chemin_fermenteur}'.\")\n",
        "\n",
        "            break  # Sortir de la boucle si la lecture est réussie\n",
        "\n",
        "        except UnicodeDecodeError:\n",
        "            print(f\"Échec de la lecture avec l'encodage : {encodage}\")\n",
        "        except FileNotFoundError:\n",
        "            print(f\"Erreur : Le fichier '{chemin_fichier}' n'existe pas.\")\n",
        "            break\n",
        "        except Exception as e:\n",
        "            print(f\"Une erreur s'est produite avec l'encodage {encodage} : {e}\")\n"
      ],
      "metadata": {
        "colab": {
          "base_uri": "https://localhost:8080/"
        },
        "id": "YklHOXlvRALd",
        "outputId": "8d467c5a-0114-4905-d9fa-2d0c3679d0d6"
      },
      "execution_count": 102,
      "outputs": [
        {
          "output_type": "stream",
          "name": "stderr",
          "text": [
            "Traitement des fichiers:  20%|██        | 1/5 [00:00<00:00,  4.94it/s]"
          ]
        },
        {
          "output_type": "stream",
          "name": "stdout",
          "text": [
            "Échec de la lecture avec l'encodage : utf-8\n",
            "Fichier 'F1_11052021_1220_DV10 cond scott_SC 300_T250_NV_SYNC.txt' lu avec l'encodage : latin-1\n",
            "Les DataFrames ont été sauvegardés sous format Excel dans '/content/drive/MyDrive/donnees/F1_11052021_1220_DV10 cond scott_SC 300_T250_NV_SYNC.xlsx' et '/content/drive/MyDrive/Fermenteur/F1_11052021_1220_DV10 cond scott_SC 300_T250_NV_SYNC.xlsx'.\n"
          ]
        },
        {
          "output_type": "stream",
          "name": "stderr",
          "text": [
            "\rTraitement des fichiers:  40%|████      | 2/5 [00:00<00:00,  6.50it/s]"
          ]
        },
        {
          "output_type": "stream",
          "name": "stdout",
          "text": [
            "Échec de la lecture avec l'encodage : utf-8\n",
            "Fichier 'F1_08022021_1817_Brioso_CfPSM_T200_NV_SYNC.txt' lu avec l'encodage : latin-1\n",
            "Les DataFrames ont été sauvegardés sous format Excel dans '/content/drive/MyDrive/donnees/F1_08022021_1817_Brioso_CfPSM_T200_NV_SYNC.xlsx' et '/content/drive/MyDrive/Fermenteur/F1_08022021_1817_Brioso_CfPSM_T200_NV_SYNC.xlsx'.\n",
            "Échec de la lecture avec l'encodage : utf-8\n",
            "Fichier 'F22_29062021_1551_OT64C2_Chardo PR20_T200_NV_SYNC.txt' lu avec l'encodage : latin-1\n"
          ]
        },
        {
          "output_type": "stream",
          "name": "stderr",
          "text": [
            "Traitement des fichiers:  80%|████████  | 4/5 [00:01<00:00,  3.05it/s]"
          ]
        },
        {
          "output_type": "stream",
          "name": "stdout",
          "text": [
            "Les DataFrames ont été sauvegardés sous format Excel dans '/content/drive/MyDrive/donnees/F22_29062021_1551_OT64C2_Chardo PR20_T200_NV_SYNC.xlsx' et '/content/drive/MyDrive/Fermenteur/F22_29062021_1551_OT64C2_Chardo PR20_T200_NV_SYNC.xlsx'.\n",
            "Échec de la lecture avec l'encodage : utf-8\n",
            "Fichier 'F1_07092021_1228_Laktia_MSN250S230FA2_T240_NV_SYNC.txt' lu avec l'encodage : latin-1\n",
            "Les DataFrames ont été sauvegardés sous format Excel dans '/content/drive/MyDrive/donnees/F1_07092021_1228_Laktia_MSN250S230FA2_T240_NV_SYNC.xlsx' et '/content/drive/MyDrive/Fermenteur/F1_07092021_1228_Laktia_MSN250S230FA2_T240_NV_SYNC.xlsx'.\n",
            "Échec de la lecture avec l'encodage : utf-8\n",
            "Fichier 'F1_07072021_1540_CY3079_MS250N200S-F-O2_T180_NV_SYNC.txt' lu avec l'encodage : latin-1\n"
          ]
        },
        {
          "output_type": "stream",
          "name": "stderr",
          "text": [
            "Traitement des fichiers: 100%|██████████| 5/5 [00:01<00:00,  2.71it/s]"
          ]
        },
        {
          "output_type": "stream",
          "name": "stdout",
          "text": [
            "Les DataFrames ont été sauvegardés sous format Excel dans '/content/drive/MyDrive/donnees/F1_07072021_1540_CY3079_MS250N200S-F-O2_T180_NV_SYNC.xlsx' et '/content/drive/MyDrive/Fermenteur/F1_07072021_1540_CY3079_MS250N200S-F-O2_T180_NV_SYNC.xlsx'.\n"
          ]
        },
        {
          "output_type": "stream",
          "name": "stderr",
          "text": [
            "\n"
          ]
        }
      ]
    },
    {
      "cell_type": "code",
      "source": [
        "df.columns"
      ],
      "metadata": {
        "id": "odT6qeHJZbo9",
        "outputId": "ff4d371b-f2ba-479f-ae93-041bafc20c39",
        "colab": {
          "base_uri": "https://localhost:8080/"
        }
      },
      "execution_count": 103,
      "outputs": [
        {
          "output_type": "execute_result",
          "data": {
            "text/plain": [
              "Index(['Temps', 'Csg_T', 'CO2', 'V11', 'Code'], dtype='object')"
            ]
          },
          "metadata": {},
          "execution_count": 103
        }
      ]
    }
  ]
}